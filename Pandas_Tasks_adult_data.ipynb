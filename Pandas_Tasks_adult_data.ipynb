{
  "nbformat": 4,
  "nbformat_minor": 0,
  "metadata": {
    "colab": {
      "provenance": [],
      "toc_visible": true,
      "include_colab_link": true
    },
    "kernelspec": {
      "name": "python3",
      "display_name": "Python 3"
    },
    "language_info": {
      "name": "python"
    }
  },
  "cells": [
    {
      "cell_type": "markdown",
      "metadata": {
        "id": "view-in-github",
        "colab_type": "text"
      },
      "source": [
        "<a href=\"https://colab.research.google.com/github/manjimams-2000/Manjimams2000/blob/main/Pandas_Tasks_adult_data.ipynb\" target=\"_parent\"><img src=\"https://colab.research.google.com/assets/colab-badge.svg\" alt=\"Open In Colab\"/></a>"
      ]
    },
    {
      "cell_type": "code",
      "execution_count": null,
      "metadata": {
        "id": "JkDcsOfDRC5o"
      },
      "outputs": [],
      "source": []
    },
    {
      "cell_type": "markdown",
      "source": [
        "read the data"
      ],
      "metadata": {
        "id": "oeZnLikWRDs_"
      }
    },
    {
      "cell_type": "code",
      "source": [],
      "metadata": {
        "id": "f6v3MFa-RF5i"
      },
      "execution_count": null,
      "outputs": []
    },
    {
      "cell_type": "markdown",
      "source": [
        "Display the first 5 rows of the dataset."
      ],
      "metadata": {
        "id": "M0eR7nLZRGeT"
      }
    },
    {
      "cell_type": "code",
      "source": [],
      "metadata": {
        "id": "hnbbT3PpRHri"
      },
      "execution_count": null,
      "outputs": []
    },
    {
      "cell_type": "markdown",
      "source": [
        "summary of the DataFrame"
      ],
      "metadata": {
        "id": "asqYVwG_RIBb"
      }
    },
    {
      "cell_type": "code",
      "source": [],
      "metadata": {
        "id": "cUkEutZLRMia"
      },
      "execution_count": null,
      "outputs": []
    },
    {
      "cell_type": "markdown",
      "source": [
        "descriptive statistics for numeric columns"
      ],
      "metadata": {
        "id": "owO_78hGRPYK"
      }
    },
    {
      "cell_type": "code",
      "source": [],
      "metadata": {
        "id": "egJOKtYGRQIW"
      },
      "execution_count": null,
      "outputs": []
    },
    {
      "cell_type": "markdown",
      "source": [
        "Display the column names of the DataFrame."
      ],
      "metadata": {
        "id": "3gcgaLEfRSjj"
      }
    },
    {
      "cell_type": "code",
      "source": [],
      "metadata": {
        "id": "T5xzlLqtRTYT"
      },
      "execution_count": null,
      "outputs": []
    },
    {
      "cell_type": "markdown",
      "source": [
        "unique values in the 'workclass' column."
      ],
      "metadata": {
        "id": "r-w_MuEvRVyk"
      }
    },
    {
      "cell_type": "code",
      "source": [],
      "metadata": {
        "id": "GE2XirkjRXAc"
      },
      "execution_count": null,
      "outputs": []
    },
    {
      "cell_type": "markdown",
      "source": [
        "Create a new column 'income_binary' where <=50K is 0 and >50K is 1."
      ],
      "metadata": {
        "id": "9lA9RnDCRZYf"
      }
    },
    {
      "cell_type": "code",
      "source": [],
      "metadata": {
        "id": "tcSb1bMLRchy"
      },
      "execution_count": null,
      "outputs": []
    },
    {
      "cell_type": "markdown",
      "source": [
        "Create a new column 'age_group' categorizing ages into 'Youth' (< 30), 'Adult' (30-60), and 'Senior' (60+)."
      ],
      "metadata": {
        "id": "OHGJMko4Rc8r"
      }
    },
    {
      "cell_type": "code",
      "source": [],
      "metadata": {
        "id": "e3Jb3Cr0ReFT"
      },
      "execution_count": null,
      "outputs": []
    },
    {
      "cell_type": "markdown",
      "source": [
        "Rename the 'educational-num' column to 'education_num'."
      ],
      "metadata": {
        "id": "lQE44AW5Ref1"
      }
    },
    {
      "cell_type": "code",
      "source": [],
      "metadata": {
        "id": "jW0Ml7yCRkhm"
      },
      "execution_count": null,
      "outputs": []
    },
    {
      "cell_type": "markdown",
      "source": [
        "Replace the missing values represented by '?' in 'workclass' and 'occupation' columns with 'Unknown'."
      ],
      "metadata": {
        "id": "QZnM8h18Rk2m"
      }
    },
    {
      "cell_type": "code",
      "source": [
        "Calculate the average age for each workclass."
      ],
      "metadata": {
        "id": "LXB0QuTdRixM"
      },
      "execution_count": null,
      "outputs": []
    },
    {
      "cell_type": "code",
      "source": [],
      "metadata": {
        "id": "OMykaJ26Rvdz"
      },
      "execution_count": null,
      "outputs": []
    },
    {
      "cell_type": "markdown",
      "source": [
        "Find the total capital-gain for each gender."
      ],
      "metadata": {
        "id": "RI77BsjkRxaj"
      }
    },
    {
      "cell_type": "code",
      "source": [],
      "metadata": {
        "id": "Fy6MdoLLR1sw"
      },
      "execution_count": null,
      "outputs": []
    },
    {
      "cell_type": "markdown",
      "source": [
        "Get the count of each marital-status category."
      ],
      "metadata": {
        "id": "nRIhYKEURrLO"
      }
    },
    {
      "cell_type": "code",
      "source": [],
      "metadata": {
        "id": "1maOMDw4R5UK"
      },
      "execution_count": null,
      "outputs": []
    },
    {
      "cell_type": "markdown",
      "source": [
        "Find the mean hours-per-week worked by individuals in different education levels."
      ],
      "metadata": {
        "id": "c31zHtUjR5qo"
      }
    },
    {
      "cell_type": "code",
      "source": [],
      "metadata": {
        "id": "2L4CvtUyR8Fi"
      },
      "execution_count": null,
      "outputs": []
    },
    {
      "cell_type": "markdown",
      "source": [
        "Calculate the mean, median, and standard deviation of 'fnlwgt' for each race."
      ],
      "metadata": {
        "id": "4qloBOBRR8Xj"
      }
    },
    {
      "cell_type": "code",
      "source": [],
      "metadata": {
        "id": "tvmvGXFBR_AG"
      },
      "execution_count": null,
      "outputs": []
    },
    {
      "cell_type": "markdown",
      "source": [
        "Get the unique values and their counts for the 'native-country' column"
      ],
      "metadata": {
        "id": "dEGRU01lR_2X"
      }
    },
    {
      "cell_type": "code",
      "source": [],
      "metadata": {
        "id": "pxp2d2JTSE1q"
      },
      "execution_count": null,
      "outputs": []
    },
    {
      "cell_type": "markdown",
      "source": [
        "Filter the dataset to include only individuals with income >50K."
      ],
      "metadata": {
        "id": "fr_Lg7kzUClD"
      }
    },
    {
      "cell_type": "code",
      "source": [],
      "metadata": {
        "id": "WsyyQR9fUDn5"
      },
      "execution_count": null,
      "outputs": []
    },
    {
      "cell_type": "markdown",
      "source": [
        "Sort the dataset by age in descending order."
      ],
      "metadata": {
        "id": "19-aDl96UD9x"
      }
    },
    {
      "cell_type": "code",
      "source": [],
      "metadata": {
        "id": "dt_BdbMfUIQx"
      },
      "execution_count": null,
      "outputs": []
    },
    {
      "cell_type": "markdown",
      "source": [
        "Filter the dataset to include only individuals who work more than 40 hours per week.\n",
        "\n"
      ],
      "metadata": {
        "id": "aHuVJpuWUHj6"
      }
    },
    {
      "cell_type": "code",
      "source": [],
      "metadata": {
        "id": "H8-HcaOwWeTE"
      },
      "execution_count": null,
      "outputs": []
    },
    {
      "cell_type": "code",
      "source": [
        "Calculate the percentage of missing values in each column."
      ],
      "metadata": {
        "id": "7ROe3CCRWmB1"
      },
      "execution_count": null,
      "outputs": []
    },
    {
      "cell_type": "code",
      "source": [],
      "metadata": {
        "id": "JZMPlZG6WnNN"
      },
      "execution_count": null,
      "outputs": []
    },
    {
      "cell_type": "markdown",
      "source": [
        "Calculate the median income by education level and gender."
      ],
      "metadata": {
        "id": "UNXEa2PdWnrx"
      }
    },
    {
      "cell_type": "code",
      "source": [],
      "metadata": {
        "id": "OOwioDK6WwlN"
      },
      "execution_count": null,
      "outputs": []
    },
    {
      "cell_type": "markdown",
      "source": [
        "Find the top 3 occupations with the highest average capital-gain."
      ],
      "metadata": {
        "id": "gWX7xURdWymB"
      }
    },
    {
      "cell_type": "code",
      "source": [],
      "metadata": {
        "id": "r0KetkkoXAeD"
      },
      "execution_count": null,
      "outputs": []
    },
    {
      "cell_type": "markdown",
      "source": [
        "Filter the dataset to include individuals who are 'Married-civ-spouse' and have an income >50K."
      ],
      "metadata": {
        "id": "7A9gkvQsXGO_"
      }
    },
    {
      "cell_type": "code",
      "source": [],
      "metadata": {
        "id": "x97bC-MPXHGP"
      },
      "execution_count": null,
      "outputs": []
    }
  ]
}