{
  "cells": [
    {
      "cell_type": "markdown",
      "metadata": {
        "colab_type": "text",
        "id": "view-in-github"
      },
      "source": [
        "<a href=\"https://colab.research.google.com/github/manjimams-2000/Manjimams2000/blob/main/python_assignment2.ipynb\" target=\"_parent\"><img src=\"https://colab.research.google.com/assets/colab-badge.svg\" alt=\"Open In Colab\"/></a>"
      ]
    },
    {
      "cell_type": "markdown",
      "metadata": {
        "id": "e-OeWLPmEwEP"
      },
      "source": [
        "1.Write a Python program which accepts the radius of a circle from the user\n",
        "and compute the area.\n",
        "Sample input: Enter the radius: 3\n",
        "Sample output: Area of Circle is 28.59999999999"
      ]
    },
    {
      "cell_type": "code",
      "execution_count": 1,
      "metadata": {
        "colab": {
          "base_uri": "https://localhost:8080/"
        },
        "id": "UAbaEaWdE2Xv",
        "outputId": "81d4f7b4-34cf-4359-f88a-77f9407dae9f"
      },
      "outputs": [
        {
          "name": "stdout",
          "output_type": "stream",
          "text": [
            "Enter the radius: 2\n",
            "Area of Circle is 12.566370614359172\n"
          ]
        }
      ],
      "source": [
        "import math\n",
        "\n",
        "# Function to calculate the area of a circle\n",
        "def calculate_area(radius):\n",
        "    return math.pi * radius ** 2\n",
        "\n",
        "# Main program\n",
        "if __name__ == \"__main__\":\n",
        "    try:\n",
        "        # Accept radius from the user\n",
        "        radius = float(input(\"Enter the radius: \"))\n",
        "\n",
        "        # Calculate the area\n",
        "        area = calculate_area(radius)\n",
        "\n",
        "        # Display the result\n",
        "        print(f\"Area of Circle is {area}\")\n",
        "    except ValueError:\n",
        "        print(\"Invalid input. Please enter a numeric value for the radius.\")\n"
      ]
    },
    {
      "cell_type": "markdown",
      "metadata": {
        "id": "5GA0cOIAFL0Z"
      },
      "source": [
        "2.Write a Python Program to accept the details of a student like name, roll\n",
        "number and mark and display it.\n",
        "Sample input: Enter the name: Anisha\n",
        "Enter the roll number: 21\n",
        "Enter the mark: 78\n",
        "Sample output: Name: Anisha\n",
        "Roll No: 21\n",
        "Mark: 78"
      ]
    },
    {
      "cell_type": "code",
      "execution_count": 2,
      "metadata": {
        "colab": {
          "base_uri": "https://localhost:8080/"
        },
        "id": "-DeeELVNFZhI",
        "outputId": "da8a04b2-c14a-4533-c26a-77aefcd32126"
      },
      "outputs": [
        {
          "name": "stdout",
          "output_type": "stream",
          "text": [
            "Enter the name: anisha\n",
            "Enter the roll number: 21\n",
            "Enter the mark: 78\n",
            "Name: anisha\n",
            "Roll No: 21\n",
            "Mark: 78\n"
          ]
        }
      ],
      "source": [
        "# Function to get student details\n",
        "def get_student_details():\n",
        "    name = input(\"Enter the name: \")\n",
        "    roll_number = input(\"Enter the roll number: \")\n",
        "    mark = input(\"Enter the mark: \")\n",
        "\n",
        "    return name, roll_number, mark\n",
        "\n",
        "# Function to display student details\n",
        "def display_student_details(name, roll_number, mark):\n",
        "    print(f\"Name: {name}\")\n",
        "    print(f\"Roll No: {roll_number}\")\n",
        "    print(f\"Mark: {mark}\")\n",
        "\n",
        "# Main function\n",
        "def main():\n",
        "    name, roll_number, mark = get_student_details()\n",
        "    display_student_details(name, roll_number, mark)\n",
        "\n",
        "# Run the program\n",
        "if __name__ == \"__main__\":\n",
        "    main()\n"
      ]
    },
    {
      "cell_type": "markdown",
      "metadata": {
        "id": "sPR85cVsF5_2"
      },
      "source": [
        "3.Write a Python program to get the largest number from a list.\n",
        "Sample input: 12, 3, 47, 10\n",
        "Sample output: 47 is the largest number."
      ]
    },
    {
      "cell_type": "code",
      "execution_count": 3,
      "metadata": {
        "colab": {
          "base_uri": "https://localhost:8080/"
        },
        "id": "ktyOr7B7GJk1",
        "outputId": "b01834bd-1ab7-42e7-f7d1-d04b729b8597"
      },
      "outputs": [
        {
          "name": "stdout",
          "output_type": "stream",
          "text": [
            "47 is the largest number.\n"
          ]
        }
      ],
      "source": [
        "def find_largest_number(numbers):\n",
        "    if not numbers:  # Check if the list is empty\n",
        "        return None\n",
        "\n",
        "    largest = numbers[0]\n",
        "    for number in numbers:\n",
        "        if number > largest:\n",
        "            largest = number\n",
        "    return largest\n",
        "\n",
        "# Sample input\n",
        "numbers = [12, 3, 47, 10]\n",
        "\n",
        "# Find and print the largest number\n",
        "largest_number = find_largest_number(numbers)\n",
        "if largest_number is not None:\n",
        "    print(f\"{largest_number} is the largest number.\")\n",
        "else:\n",
        "    print(\"The list is empty.\")\n"
      ]
    },
    {
      "cell_type": "markdown",
      "metadata": {
        "id": "ERzhjVFLGWTH"
      },
      "source": [
        "4.Given a range of first 10 numbers, write a Python program to iterate from\n",
        "start number to the end number and print the sum of the current number\n",
        "and previous number.\n",
        "Sample input: 1….10\n",
        "Sample output: Current Number 1 Previous Number 0 Sum: 1 Current\n",
        "Number 2 Previous Number 1 Sum: 3 Current Number 3 Previous\n",
        "Number 2 Sum: 5… Current Number 10 Previous Number 9 Sum: 19"
      ]
    },
    {
      "cell_type": "code",
      "execution_count": 4,
      "metadata": {
        "colab": {
          "base_uri": "https://localhost:8080/"
        },
        "id": "c-n0hAvkGiAE",
        "outputId": "494b4eba-240e-4eb1-9b61-359de62231e7"
      },
      "outputs": [
        {
          "name": "stdout",
          "output_type": "stream",
          "text": [
            "Current Number 1 Previous Number 0 Sum: 1\n",
            "Current Number 2 Previous Number 1 Sum: 3\n",
            "Current Number 3 Previous Number 2 Sum: 5\n",
            "Current Number 4 Previous Number 3 Sum: 7\n",
            "Current Number 5 Previous Number 4 Sum: 9\n",
            "Current Number 6 Previous Number 5 Sum: 11\n",
            "Current Number 7 Previous Number 6 Sum: 13\n",
            "Current Number 8 Previous Number 7 Sum: 15\n",
            "Current Number 9 Previous Number 8 Sum: 17\n",
            "Current Number 10 Previous Number 9 Sum: 19\n"
          ]
        }
      ],
      "source": [
        "# Define the range\n",
        "start_number = 1\n",
        "end_number = 10\n",
        "\n",
        "# Initialize the previous number to 0\n",
        "previous_number = 0\n",
        "\n",
        "# Iterate from start number to end number\n",
        "for current_number in range(start_number, end_number + 1):\n",
        "    # Calculate the sum of current and previous number\n",
        "    sum_numbers = current_number + previous_number\n",
        "    # Print the output\n",
        "    print(f\"Current Number {current_number} Previous Number {previous_number} Sum: {sum_numbers}\")\n",
        "    # Update the previous number to the current number\n",
        "    previous_number = current_number\n"
      ]
    },
    {
      "cell_type": "markdown",
      "metadata": {
        "id": "UYUmafrnGt81"
      },
      "source": [
        "5.Write a Python program to print only those numbers which are divisible\n",
        "of 5.\n",
        "Sample input: 10, 20,33,46,55 Sample output: 10, 20, 55"
      ]
    },
    {
      "cell_type": "code",
      "execution_count": 5,
      "metadata": {
        "colab": {
          "base_uri": "https://localhost:8080/"
        },
        "id": "FLNZqmZOG7f9",
        "outputId": "897e0fc9-339d-4bb5-a983-7278420519bc"
      },
      "outputs": [
        {
          "name": "stdout",
          "output_type": "stream",
          "text": [
            "10\n",
            "20\n",
            "55\n"
          ]
        }
      ],
      "source": [
        "# Define the input list\n",
        "numbers = [10, 20, 33, 46, 55]\n",
        "\n",
        "# Function to filter and print numbers divisible by 5\n",
        "def print_divisible_by_5(numbers):\n",
        "    for number in numbers:\n",
        "        if number % 5 == 0:\n",
        "            print(number)\n",
        "\n",
        "# Call the function with the sample input\n",
        "print_divisible_by_5(numbers)\n"
      ]
    },
    {
      "cell_type": "markdown",
      "metadata": {
        "id": "3ajV1RmjHLU3"
      },
      "source": [
        "6.Write a Python program to check whether a number is prime or not.\n",
        "Sample input: Enter the number: 3\n",
        "Sample output: 3 is a prime number."
      ]
    },
    {
      "cell_type": "code",
      "execution_count": 6,
      "metadata": {
        "colab": {
          "base_uri": "https://localhost:8080/"
        },
        "id": "B0PDC3VnHUNn",
        "outputId": "b692b6f6-844f-4ef3-ff1c-a4a1d6d5bb85"
      },
      "outputs": [
        {
          "name": "stdout",
          "output_type": "stream",
          "text": [
            "Enter the number: 3\n",
            "3 is a prime number.\n"
          ]
        }
      ],
      "source": [
        "def is_prime(n):\n",
        "    \"\"\"Check if a number is prime.\"\"\"\n",
        "    if n <= 1:\n",
        "        return False\n",
        "    if n <= 3:\n",
        "        return True\n",
        "    if n % 2 == 0 or n % 3 == 0:\n",
        "        return False\n",
        "    i = 5\n",
        "    while (i * i) <= n:\n",
        "        if n % i == 0 or n % (i + 2) == 0:\n",
        "            return False\n",
        "        i += 6\n",
        "    return True\n",
        "\n",
        "# Input from the user\n",
        "number = int(input(\"Enter the number: \"))\n",
        "\n",
        "# Check if the number is prime and print the result\n",
        "if is_prime(number):\n",
        "    print(f\"{number} is a prime number.\")\n",
        "else:\n",
        "    print(f\"{number} is not a prime number.\")\n"
      ]
    },
    {
      "cell_type": "markdown",
      "metadata": {
        "id": "Yz3GNM0mHjSd"
      },
      "source": [
        "7.Write a Python program to reverse a list using for loop.\n",
        "Sample input: 10,40,30,70\n",
        "Sample output: 70,30,40,10"
      ]
    },
    {
      "cell_type": "code",
      "execution_count": 7,
      "metadata": {
        "colab": {
          "base_uri": "https://localhost:8080/"
        },
        "id": "gQUGHrkVHqU5",
        "outputId": "7159be01-b264-473a-d62f-6d5ea481e828"
      },
      "outputs": [
        {
          "name": "stdout",
          "output_type": "stream",
          "text": [
            "Reversed list: [70, 30, 40, 10]\n"
          ]
        }
      ],
      "source": [
        "def reverse_list(input_list):\n",
        "    reversed_list = []\n",
        "    for i in range(len(input_list) - 1, -1, -1):\n",
        "        reversed_list.append(input_list[i])\n",
        "    return reversed_list\n",
        "\n",
        "# Sample input\n",
        "input_list = [10, 40, 30, 70]\n",
        "\n",
        "# Reversing the list\n",
        "reversed_list = reverse_list(input_list)\n",
        "\n",
        "# Printing the output\n",
        "print(\"Reversed list:\", reversed_list)\n"
      ]
    },
    {
      "cell_type": "markdown",
      "metadata": {
        "id": "pCY716dMH1ca"
      },
      "source": [
        "8.Write a Python program to print the following pattern.\n",
        "*\n",
        "**\n",
        "***\n",
        "****"
      ]
    },
    {
      "cell_type": "code",
      "execution_count": 8,
      "metadata": {
        "colab": {
          "base_uri": "https://localhost:8080/"
        },
        "id": "CADalQMFIAZh",
        "outputId": "67acc6d8-57e2-4ac1-e31b-ce5356884bfd"
      },
      "outputs": [
        {
          "name": "stdout",
          "output_type": "stream",
          "text": [
            "*\n",
            "**\n",
            "***\n",
            "****\n"
          ]
        }
      ],
      "source": [
        "# Number of rows for the pattern\n",
        "num_rows = 4\n",
        "\n",
        "# Loop to print each row\n",
        "for i in range(1, num_rows + 1):\n",
        "    # Print '*' i times\n",
        "    print('*' * i)\n"
      ]
    },
    {
      "cell_type": "markdown",
      "metadata": {
        "id": "ccasgqOzIJ-p"
      },
      "source": [
        "9.Write a Python program to find the maximum of three numbers\n",
        "Sample input: 34,12,7\n",
        "Sample output: 34"
      ]
    },
    {
      "cell_type": "code",
      "execution_count": 9,
      "metadata": {
        "colab": {
          "base_uri": "https://localhost:8080/"
        },
        "id": "f377Gcz7IR7K",
        "outputId": "01c7627e-5634-439b-ce82-51138b0951f0"
      },
      "outputs": [
        {
          "name": "stdout",
          "output_type": "stream",
          "text": [
            "The maximum of 34, 12, and 7 is: 34\n"
          ]
        }
      ],
      "source": [
        "def find_maximum(a, b, c):\n",
        "    if a >= b and a >= c:\n",
        "        return a\n",
        "    elif b >= a and b >= c:\n",
        "        return b\n",
        "    else:\n",
        "        return c\n",
        "\n",
        "# Sample input\n",
        "num1 = 34\n",
        "num2 = 12\n",
        "num3 = 7\n",
        "\n",
        "# Finding the maximum number\n",
        "max_num = find_maximum(num1, num2, num3)\n",
        "\n",
        "# Sample output\n",
        "print(f\"The maximum of {num1}, {num2}, and {num3} is: {max_num}\")\n"
      ]
    },
    {
      "cell_type": "markdown",
      "metadata": {
        "id": "VavvFnIKIcJT"
      },
      "source": [
        "10.Write a Python program to construct the following pattern, using a\n",
        "nested for loop.\n",
        "*\n",
        "**\n",
        "***\n",
        "****\n",
        "*****\n",
        "****\n",
        "***\n",
        "**\n",
        "*"
      ]
    },
    {
      "cell_type": "code",
      "execution_count": 10,
      "metadata": {
        "colab": {
          "base_uri": "https://localhost:8080/"
        },
        "id": "WcTD4I72Imdh",
        "outputId": "6e53f3df-812c-4650-849c-d95ed963ff9d"
      },
      "outputs": [
        {
          "name": "stdout",
          "output_type": "stream",
          "text": [
            "*\n",
            "**\n",
            "***\n",
            "****\n",
            "*****\n",
            "****\n",
            "***\n",
            "**\n",
            "*\n"
          ]
        }
      ],
      "source": [
        "# Number of rows for the pattern\n",
        "n = 5\n",
        "\n",
        "# Upper part of the pattern\n",
        "for i in range(n):\n",
        "    for j in range(i + 1):\n",
        "        print('*', end='')\n",
        "    print()\n",
        "\n",
        "# Lower part of the pattern\n",
        "for i in range(n - 1, 0, -1):\n",
        "    for j in range(i):\n",
        "        print('*', end='')\n",
        "    print()\n"
      ]
    },
    {
      "cell_type": "code",
      "execution_count": null,
      "metadata": {
        "id": "9NWIL0auEIhf"
      },
      "outputs": [],
      "source": []
    }
  ],
  "metadata": {
    "colab": {
      "authorship_tag": "ABX9TyNN0sjnDnArzpLuFx26MGRv",
      "include_colab_link": true,
      "provenance": []
    },
    "kernelspec": {
      "display_name": "Python 3",
      "name": "python3"
    },
    "language_info": {
      "name": "python"
    }
  },
  "nbformat": 4,
  "nbformat_minor": 0
}
