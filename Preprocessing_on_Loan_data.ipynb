{
  "nbformat": 4,
  "nbformat_minor": 0,
  "metadata": {
    "colab": {
      "provenance": [],
      "authorship_tag": "ABX9TyOfHvP1zmTX4id575lxnTyA",
      "include_colab_link": true
    },
    "kernelspec": {
      "name": "python3",
      "display_name": "Python 3"
    },
    "language_info": {
      "name": "python"
    }
  },
  "cells": [
    {
      "cell_type": "markdown",
      "metadata": {
        "id": "view-in-github",
        "colab_type": "text"
      },
      "source": [
        "<a href=\"https://colab.research.google.com/github/manjimams-2000/Manjimams2000/blob/main/Preprocessing_on_Loan_data.ipynb\" target=\"_parent\"><img src=\"https://colab.research.google.com/assets/colab-badge.svg\" alt=\"Open In Colab\"/></a>"
      ]
    },
    {
      "cell_type": "code",
      "execution_count": 1,
      "metadata": {
        "id": "L5rqRMw1Ccj1"
      },
      "outputs": [],
      "source": [
        "import pandas as pd\n",
        "\n",
        "# Load the dataset\n",
        "file_path = '/content/train_loan_preprocess.csv'\n",
        "df = pd.read_csv(file_path)\n",
        "\n"
      ]
    },
    {
      "cell_type": "code",
      "source": [
        "df.head(), df.info(), df.describe()"
      ],
      "metadata": {
        "colab": {
          "base_uri": "https://localhost:8080/"
        },
        "id": "ZgvezAWvC71C",
        "outputId": "edd3fa3b-5594-47b1-a7a9-f7c99d9c4c33"
      },
      "execution_count": 3,
      "outputs": [
        {
          "output_type": "stream",
          "name": "stdout",
          "text": [
            "<class 'pandas.core.frame.DataFrame'>\n",
            "RangeIndex: 614 entries, 0 to 613\n",
            "Data columns (total 13 columns):\n",
            " #   Column             Non-Null Count  Dtype  \n",
            "---  ------             --------------  -----  \n",
            " 0   Loan_ID            614 non-null    object \n",
            " 1   Gender             601 non-null    object \n",
            " 2   Married            611 non-null    object \n",
            " 3   Dependents         599 non-null    object \n",
            " 4   Education          614 non-null    object \n",
            " 5   Self_Employed      582 non-null    object \n",
            " 6   ApplicantIncome    614 non-null    int64  \n",
            " 7   CoapplicantIncome  614 non-null    float64\n",
            " 8   LoanAmount         592 non-null    float64\n",
            " 9   Loan_Amount_Term   600 non-null    float64\n",
            " 10  Credit_History     564 non-null    float64\n",
            " 11  Property_Area      614 non-null    object \n",
            " 12  Loan_Status        614 non-null    object \n",
            "dtypes: float64(4), int64(1), object(8)\n",
            "memory usage: 62.5+ KB\n"
          ]
        },
        {
          "output_type": "execute_result",
          "data": {
            "text/plain": [
              "(    Loan_ID Gender Married Dependents     Education Self_Employed  \\\n",
              " 0  LP001002   Male      No          0      Graduate            No   \n",
              " 1  LP001003   Male     Yes          1      Graduate            No   \n",
              " 2  LP001005   Male     Yes          0      Graduate           Yes   \n",
              " 3  LP001006   Male     Yes          0  Not Graduate            No   \n",
              " 4  LP001008   Male      No          0      Graduate            No   \n",
              " \n",
              "    ApplicantIncome  CoapplicantIncome  LoanAmount  Loan_Amount_Term  \\\n",
              " 0             5849                0.0         NaN             360.0   \n",
              " 1             4583             1508.0       128.0             360.0   \n",
              " 2             3000                0.0        66.0             360.0   \n",
              " 3             2583             2358.0       120.0             360.0   \n",
              " 4             6000                0.0       141.0             360.0   \n",
              " \n",
              "    Credit_History Property_Area Loan_Status  \n",
              " 0             1.0         Urban           Y  \n",
              " 1             1.0         Rural           N  \n",
              " 2             1.0         Urban           Y  \n",
              " 3             1.0         Urban           Y  \n",
              " 4             1.0         Urban           Y  ,\n",
              " None,\n",
              "        ApplicantIncome  CoapplicantIncome  LoanAmount  Loan_Amount_Term  \\\n",
              " count       614.000000         614.000000  592.000000         600.00000   \n",
              " mean       5403.459283        1621.245798  146.412162         342.00000   \n",
              " std        6109.041673        2926.248369   85.587325          65.12041   \n",
              " min         150.000000           0.000000    9.000000          12.00000   \n",
              " 25%        2877.500000           0.000000  100.000000         360.00000   \n",
              " 50%        3812.500000        1188.500000  128.000000         360.00000   \n",
              " 75%        5795.000000        2297.250000  168.000000         360.00000   \n",
              " max       81000.000000       41667.000000  700.000000         480.00000   \n",
              " \n",
              "        Credit_History  \n",
              " count      564.000000  \n",
              " mean         0.842199  \n",
              " std          0.364878  \n",
              " min          0.000000  \n",
              " 25%          1.000000  \n",
              " 50%          1.000000  \n",
              " 75%          1.000000  \n",
              " max          1.000000  )"
            ]
          },
          "metadata": {},
          "execution_count": 3
        }
      ]
    },
    {
      "cell_type": "code",
      "source": [
        "import pandas as pd\n",
        "from sklearn.impute import SimpleImputer\n"
      ],
      "metadata": {
        "id": "UDdvvTgPDwNm"
      },
      "execution_count": 4,
      "outputs": []
    },
    {
      "cell_type": "code",
      "source": [
        "df = pd.read_csv('/content/train_loan_preprocess.csv')\n"
      ],
      "metadata": {
        "id": "z6GKur71D17p"
      },
      "execution_count": 5,
      "outputs": []
    },
    {
      "cell_type": "code",
      "source": [
        "X = df.drop(columns=['Loan_ID', 'Loan_Status'])\n",
        "y = df['Loan_Status']\n"
      ],
      "metadata": {
        "id": "ZiYikwiUD7uu"
      },
      "execution_count": 6,
      "outputs": []
    },
    {
      "cell_type": "code",
      "source": [
        "categorical_cols = X.select_dtypes(include=['object']).columns\n",
        "numerical_cols = X.select_dtypes(include=['int64', 'float64']).columns\n"
      ],
      "metadata": {
        "id": "YR_zBnLaD_UC"
      },
      "execution_count": 7,
      "outputs": []
    },
    {
      "cell_type": "code",
      "source": [
        "categorical_imputer = SimpleImputer(strategy='most_frequent')\n",
        "X[categorical_cols] = categorical_imputer.fit_transform(X[categorical_cols])\n"
      ],
      "metadata": {
        "id": "s7IJ173XECGE"
      },
      "execution_count": 8,
      "outputs": []
    },
    {
      "cell_type": "code",
      "source": [
        "numerical_imputer = SimpleImputer(strategy='median')\n",
        "X[numerical_cols] = numerical_imputer.fit_transform(X[numerical_cols])\n"
      ],
      "metadata": {
        "id": "A9TTZpDGEFQd"
      },
      "execution_count": 9,
      "outputs": []
    },
    {
      "cell_type": "code",
      "source": [
        "X.isnull().sum()"
      ],
      "metadata": {
        "colab": {
          "base_uri": "https://localhost:8080/"
        },
        "id": "PqhK_g6_EMqj",
        "outputId": "764084a5-6688-4631-f226-d907691fd2c3"
      },
      "execution_count": 10,
      "outputs": [
        {
          "output_type": "execute_result",
          "data": {
            "text/plain": [
              "Gender               0\n",
              "Married              0\n",
              "Dependents           0\n",
              "Education            0\n",
              "Self_Employed        0\n",
              "ApplicantIncome      0\n",
              "CoapplicantIncome    0\n",
              "LoanAmount           0\n",
              "Loan_Amount_Term     0\n",
              "Credit_History       0\n",
              "Property_Area        0\n",
              "dtype: int64"
            ]
          },
          "metadata": {},
          "execution_count": 10
        }
      ]
    },
    {
      "cell_type": "code",
      "source": [
        "import pandas as pd\n",
        "import numpy as np\n"
      ],
      "metadata": {
        "id": "PlXmgKJUEukK"
      },
      "execution_count": 11,
      "outputs": []
    },
    {
      "cell_type": "code",
      "source": [
        "df = pd.read_csv('/content/train_loan_preprocess.csv')\n"
      ],
      "metadata": {
        "id": "C9ZW8JFaEzBv"
      },
      "execution_count": 12,
      "outputs": []
    },
    {
      "cell_type": "code",
      "source": [
        "X = df.drop(columns=['Loan_ID', 'Loan_Status'])\n",
        "y = df['Loan_Status']\n"
      ],
      "metadata": {
        "id": "MPJJmaxWE5eO"
      },
      "execution_count": 13,
      "outputs": []
    },
    {
      "cell_type": "code",
      "source": [
        "numerical_cols = X.select_dtypes(include=['int64', 'float64']).columns\n"
      ],
      "metadata": {
        "id": "Dtmc7W0-E8k0"
      },
      "execution_count": 14,
      "outputs": []
    },
    {
      "cell_type": "code",
      "source": [
        "def detect_outliers(df, cols):\n",
        "    outliers_dict = {}\n",
        "    for col in cols:\n",
        "        Q1 = df[col].quantile(0.25)\n",
        "        Q3 = df[col].quantile(0.75)\n",
        "        IQR = Q3 - Q1\n",
        "        lower_bound = Q1 - 1.5 * IQR\n",
        "        upper_bound = Q3 + 1.5 * IQR\n",
        "        outliers = df[(df[col] < lower_bound) | (df[col] > upper_bound)]\n",
        "        outliers_dict[col] = outliers.index\n",
        "    return outliers_dict\n"
      ],
      "metadata": {
        "id": "KnnfKlgqE_0k"
      },
      "execution_count": 15,
      "outputs": []
    },
    {
      "cell_type": "code",
      "source": [
        "outliers_dict = detect_outliers(X, numerical_cols)\n"
      ],
      "metadata": {
        "id": "5hQxdBU2FDzy"
      },
      "execution_count": 16,
      "outputs": []
    },
    {
      "cell_type": "code",
      "source": [
        "X.shape, y.shape"
      ],
      "metadata": {
        "colab": {
          "base_uri": "https://localhost:8080/"
        },
        "id": "2yqFCGX4Fanc",
        "outputId": "41da4b4c-2a14-4691-b34f-181dedeef24e"
      },
      "execution_count": 21,
      "outputs": [
        {
          "output_type": "execute_result",
          "data": {
            "text/plain": [
              "((539, 11), (539,))"
            ]
          },
          "metadata": {},
          "execution_count": 21
        }
      ]
    },
    {
      "cell_type": "code",
      "source": [
        "import pandas as pd\n",
        "from sklearn.preprocessing import OneHotEncoder\n",
        "from sklearn.compose import ColumnTransformer\n",
        "from sklearn.pipeline import Pipeline\n"
      ],
      "metadata": {
        "id": "kOzcE0CpFrgW"
      },
      "execution_count": 22,
      "outputs": []
    },
    {
      "cell_type": "code",
      "source": [
        "df = pd.read_csv('/content/train_loan_preprocess.csv')\n"
      ],
      "metadata": {
        "id": "Q5JYcqzZFzfG"
      },
      "execution_count": 23,
      "outputs": []
    },
    {
      "cell_type": "code",
      "source": [
        "X = df.drop(columns=['Loan_ID', 'Loan_Status'])\n",
        "y = df['Loan_Status']\n"
      ],
      "metadata": {
        "id": "V1I25blcF7E6"
      },
      "execution_count": 24,
      "outputs": []
    },
    {
      "cell_type": "code",
      "source": [
        "categorical_cols = X.select_dtypes(include=['object']).columns\n"
      ],
      "metadata": {
        "id": "WIkN-laBF-qU"
      },
      "execution_count": 25,
      "outputs": []
    },
    {
      "cell_type": "code",
      "source": [
        "categorical_transformer = Pipeline(steps=[\n",
        "    ('onehot', OneHotEncoder(handle_unknown='ignore'))\n",
        "])\n"
      ],
      "metadata": {
        "id": "x8MSYLwGGCXg"
      },
      "execution_count": 26,
      "outputs": []
    },
    {
      "cell_type": "code",
      "source": [
        "preprocessor = ColumnTransformer(\n",
        "    transformers=[\n",
        "        ('cat', categorical_transformer, categorical_cols)\n",
        "    ])\n"
      ],
      "metadata": {
        "id": "U5hHjDk5GGUr"
      },
      "execution_count": 27,
      "outputs": []
    },
    {
      "cell_type": "code",
      "source": [
        "X_encoded = preprocessor.fit_transform(X)\n"
      ],
      "metadata": {
        "id": "g8drd_7bGJa-"
      },
      "execution_count": 28,
      "outputs": []
    },
    {
      "cell_type": "code",
      "source": [
        "y_encoded = y.map({'Y': 1, 'N': 0})\n"
      ],
      "metadata": {
        "id": "SudwMKfnGMgV"
      },
      "execution_count": 29,
      "outputs": []
    },
    {
      "cell_type": "code",
      "source": [
        "import pandas as pd\n",
        "from sklearn.preprocessing import StandardScaler\n",
        "from sklearn.compose import ColumnTransformer\n",
        "from sklearn.pipeline import Pipeline\n"
      ],
      "metadata": {
        "id": "SZ-jrHWQGbUh"
      },
      "execution_count": 30,
      "outputs": []
    },
    {
      "cell_type": "code",
      "source": [
        "df = pd.read_csv('/content/train_loan_preprocess.csv')\n"
      ],
      "metadata": {
        "id": "-VMHxS6GGert"
      },
      "execution_count": 31,
      "outputs": []
    },
    {
      "cell_type": "code",
      "source": [
        "X = df.drop(columns=['Loan_ID', 'Loan_Status'])\n",
        "y = df['Loan_Status']\n"
      ],
      "metadata": {
        "id": "-Uu2UnO7GkNj"
      },
      "execution_count": 32,
      "outputs": []
    },
    {
      "cell_type": "code",
      "source": [
        "numerical_cols = X.select_dtypes(include=['int64', 'float64']).columns\n"
      ],
      "metadata": {
        "id": "HH6BX7iuGnnf"
      },
      "execution_count": 33,
      "outputs": []
    },
    {
      "cell_type": "code",
      "source": [
        "numerical_transformer = Pipeline(steps=[\n",
        "    ('scaler', StandardScaler())\n",
        "])\n"
      ],
      "metadata": {
        "id": "QLatSNsPGqaD"
      },
      "execution_count": 34,
      "outputs": []
    },
    {
      "cell_type": "code",
      "source": [
        "preprocessor = ColumnTransformer(\n",
        "    transformers=[\n",
        "        ('num', numerical_transformer, numerical_cols)\n",
        "    ])\n"
      ],
      "metadata": {
        "id": "aE7nxu-6GtZ5"
      },
      "execution_count": 35,
      "outputs": []
    },
    {
      "cell_type": "code",
      "source": [
        "X_scaled = preprocessor.fit_transform(X)\n"
      ],
      "metadata": {
        "id": "XSPGC3amGw-l"
      },
      "execution_count": 36,
      "outputs": []
    },
    {
      "cell_type": "code",
      "source": [
        "y_encoded = y.map({'Y': 1, 'N': 0})\n"
      ],
      "metadata": {
        "id": "Ir0geJgQGz9q"
      },
      "execution_count": 37,
      "outputs": []
    }
  ]
}