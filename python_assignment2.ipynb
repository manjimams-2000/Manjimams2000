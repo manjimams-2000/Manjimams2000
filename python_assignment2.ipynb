{
  "nbformat": 4,
  "nbformat_minor": 0,
  "metadata": {
    "colab": {
      "provenance": [],
      "authorship_tag": "ABX9TyMz7N/8jrww5nGhJfw0MzF1",
      "include_colab_link": true
    },
    "kernelspec": {
      "name": "python3",
      "display_name": "Python 3"
    },
    "language_info": {
      "name": "python"
    }
  },
  "cells": [
    {
      "cell_type": "markdown",
      "metadata": {
        "id": "view-in-github",
        "colab_type": "text"
      },
      "source": [
        "<a href=\"https://colab.research.google.com/github/manjimams-2000/Manjimams2000/blob/main/python_assignment2.ipynb\" target=\"_parent\"><img src=\"https://colab.research.google.com/assets/colab-badge.svg\" alt=\"Open In Colab\"/></a>"
      ]
    },
    {
      "cell_type": "markdown",
      "source": [
        "1. Write a Python program to accept a string value from the user and display\n",
        "the count of each character in that string. Sample input: Enter a string\n",
        "value: assembly Sample output: a=1, s=2, e=1, m=1, b=1, l=1, y=1"
      ],
      "metadata": {
        "id": "yvz4Tt5k0-IM"
      }
    },
    {
      "cell_type": "code",
      "execution_count": 1,
      "metadata": {
        "colab": {
          "base_uri": "https://localhost:8080/"
        },
        "id": "cHxkV-bi0Vuk",
        "outputId": "1d5df870-80c6-469a-8977-ad55919c14d1"
      },
      "outputs": [
        {
          "output_type": "stream",
          "name": "stdout",
          "text": [
            "Enter a string value: 1\n",
            "1=1\n"
          ]
        }
      ],
      "source": [
        "def count_characters(s):\n",
        "    # Create an empty dictionary to store character counts\n",
        "    char_count = {}\n",
        "\n",
        "    # Iterate over each character in the string\n",
        "    for char in s:\n",
        "        # If the character is already in the dictionary, increment its count\n",
        "        if char in char_count:\n",
        "            char_count[char] += 1\n",
        "        # Otherwise, add the character to the dictionary with a count of 1\n",
        "        else:\n",
        "            char_count[char] = 1\n",
        "\n",
        "    # Create a string to display the counts\n",
        "    result = ', '.join([f\"{char}={count}\" for char, count in char_count.items()])\n",
        "\n",
        "    return result\n",
        "\n",
        "# Accept a string value from the user\n",
        "input_string = input(\"Enter a string value: \")\n",
        "\n",
        "# Get the count of each character in the string\n",
        "output = count_characters(input_string)\n",
        "\n",
        "# Display the result\n",
        "print(output)\n",
        "2\n",
        "3\n"
      ]
    },
    {
      "cell_type": "markdown",
      "source": [
        "2. . Write a Python function to find the maximum of three numbers Sample\n",
        "input: 34,12,7 Sample output: 3"
      ],
      "metadata": {
        "id": "2yHuAp-j1jDw"
      }
    },
    {
      "cell_type": "code",
      "source": [
        "def find_max_of_three(a, b, c):\n",
        "    return max(a, b, c)\n",
        "\n",
        "# Sample input\n",
        "num1 = 34\n",
        "num2 = 12\n",
        "num3 = 7\n",
        "\n",
        "# Sample output\n",
        "print(find_max_of_three(num1, num2, num3))\n"
      ],
      "metadata": {
        "colab": {
          "base_uri": "https://localhost:8080/"
        },
        "id": "ZuejcPb61pPd",
        "outputId": "09f2bf00-9f56-4832-85b1-a3529355dc1b"
      },
      "execution_count": 2,
      "outputs": [
        {
          "output_type": "stream",
          "name": "stdout",
          "text": [
            "34\n"
          ]
        }
      ]
    },
    {
      "cell_type": "markdown",
      "source": [
        "Write a Python function called exponent(base,exp) that returns an\n",
        "integer value of base raises to the power of exp. Sample input: Enter the\n",
        "base: 2 Enter the exponent: 3 Sample output: 8"
      ],
      "metadata": {
        "id": "RuKltXHk2BAK"
      }
    },
    {
      "cell_type": "code",
      "source": [
        "def exponent(base, exp):\n",
        "    return base ** exp\n",
        "\n",
        "# Sample usage\n",
        "base = int(input(\"Enter the base: \"))\n",
        "exp = int(input(\"Enter the exponent: \"))\n",
        "result = exponent(base, exp)\n",
        "print(result)\n"
      ],
      "metadata": {
        "colab": {
          "base_uri": "https://localhost:8080/"
        },
        "id": "jRGyGTYT2MFa",
        "outputId": "cbab6f78-caa0-426d-a6cf-30bf61d0224a"
      },
      "execution_count": 3,
      "outputs": [
        {
          "output_type": "stream",
          "name": "stdout",
          "text": [
            "Enter the base: 3\n",
            "Enter the exponent: 4\n",
            "81\n"
          ]
        }
      ]
    },
    {
      "cell_type": "markdown",
      "source": [
        "4.Write a Python function that takes a positive integer and returns the sum\n",
        "of the cube of all the positive integers smaller than the specified number.\n",
        "Sample input: 4 Sample output: 36."
      ],
      "metadata": {
        "id": "N4IAGngW29oc"
      }
    },
    {
      "cell_type": "code",
      "source": [
        "def sum_of_cubes(n):\n",
        "    if n <= 1:\n",
        "        return 0\n",
        "    return sum(i**3 for i in range(1, n))\n",
        "\n",
        "# Sample input and output\n",
        "print(sum_of_cubes(4))  # Output: 36\n"
      ],
      "metadata": {
        "colab": {
          "base_uri": "https://localhost:8080/"
        },
        "id": "mGhEqqsQ3AaB",
        "outputId": "f13fdac1-a191-473a-8479-373eba9768c4"
      },
      "execution_count": 4,
      "outputs": [
        {
          "output_type": "stream",
          "name": "stdout",
          "text": [
            "36\n"
          ]
        }
      ]
    },
    {
      "cell_type": "markdown",
      "source": [
        "5.Write a Python program which iterates from 1 to 10. For multiples of 2,\n",
        "print “Fizz” instead of the number and for the multiples of 5, print “Buzz”.\n",
        "For numbers which are multiples of both 2 and 5, print “FizzBuzz”.\n",
        "Sample input: numbers from 1 to 10 Sample output: 1 Fizz 3 Fizz Buzz\n",
        "Fizz 7 Fizz 9 FizzBuzz"
      ],
      "metadata": {
        "id": "fagNkcOH3QH1"
      }
    },
    {
      "cell_type": "code",
      "source": [
        "for i in range(1, 11):\n",
        "    if i % 2 == 0 and i % 5 == 0:\n",
        "        print(\"FizzBuzz\")\n",
        "    elif i % 2 == 0:\n",
        "        print(\"Fizz\")\n",
        "    elif i % 5 == 0:\n",
        "        print(\"Buzz\")\n",
        "    else:\n",
        "        print(i)\n",
        "\n"
      ],
      "metadata": {
        "colab": {
          "base_uri": "https://localhost:8080/"
        },
        "id": "L5lJRuCi3dNM",
        "outputId": "926416f8-9e3a-4b3a-96f6-3c04674bab04"
      },
      "execution_count": 5,
      "outputs": [
        {
          "output_type": "stream",
          "name": "stdout",
          "text": [
            "1\n",
            "Fizz\n",
            "3\n",
            "Fizz\n",
            "Buzz\n",
            "Fizz\n",
            "7\n",
            "Fizz\n",
            "9\n",
            "FizzBuzz\n"
          ]
        }
      ]
    },
    {
      "cell_type": "markdown",
      "source": [
        "6.Write a Python program to find the most frequent item in a list of\n",
        "numbers. Sample input: 2, 3, 4, 2, 5, 2 Sample output: 2"
      ],
      "metadata": {
        "id": "aAteY7wa3vKH"
      }
    },
    {
      "cell_type": "code",
      "source": [
        "from collections import Counter\n",
        "\n",
        "def most_frequent_item(numbers):\n",
        "    # Create a Counter object to count the frequency of each item\n",
        "    count = Counter(numbers)\n",
        "\n",
        "    # Find the item with the maximum frequency\n",
        "    most_common_item = count.most_common(1)[0][0]\n",
        "\n",
        "    return most_common_item\n",
        "\n",
        "# Sample input\n",
        "numbers = [2, 3, 4, 2, 5, 2]\n",
        "\n",
        "# Find and print the most frequent item\n",
        "print(most_frequent_item(numbers))\n",
        "\n"
      ],
      "metadata": {
        "colab": {
          "base_uri": "https://localhost:8080/"
        },
        "id": "5IwhPf2233Y8",
        "outputId": "621fca4b-1527-4c6f-d22e-e3051aa6abb9"
      },
      "execution_count": 6,
      "outputs": [
        {
          "output_type": "stream",
          "name": "stdout",
          "text": [
            "2\n"
          ]
        }
      ]
    },
    {
      "cell_type": "markdown",
      "source": [
        "7.Write a Python program to find the sum of squares of the numbers in a\n",
        "list. Sample input: 2,1,3,1 Sample output: 15"
      ],
      "metadata": {
        "id": "0QqTqfW-4OAz"
      }
    },
    {
      "cell_type": "code",
      "source": [
        "def sum_of_squares(numbers):\n",
        "    return sum(x**2 for x in numbers)\n",
        "\n",
        "# Sample input\n",
        "numbers = [2, 1, 3, 1]\n",
        "result = sum_of_squares(numbers)\n",
        "\n",
        "print(\"Sum of squares:\", result)\n",
        "\n"
      ],
      "metadata": {
        "colab": {
          "base_uri": "https://localhost:8080/"
        },
        "id": "M21D5MN54UsI",
        "outputId": "c0cdec4e-9c14-496e-b78f-5eee6f4102bc"
      },
      "execution_count": 7,
      "outputs": [
        {
          "output_type": "stream",
          "name": "stdout",
          "text": [
            "Sum of squares: 15\n"
          ]
        }
      ]
    },
    {
      "cell_type": "markdown",
      "source": [
        "8.write a python program using for loop that will itreate from 1 to 15.for each itreation,check if the current number is odd or even,and display the message to the screen as odd or even. sample input:1.....15 sample output:1-odd 2-even.....15-odd"
      ],
      "metadata": {
        "id": "FP_IkE1z4gv4"
      }
    },
    {
      "cell_type": "code",
      "source": [
        "# Iterating from 1 to 15\n",
        "for i in range(1, 16):\n",
        "    # Checking if the number is odd or even\n",
        "    if i % 2 == 0:\n",
        "        print(f\"{i}-even\")\n",
        "    else:\n",
        "        print(f\"{i}-odd\")\n"
      ],
      "metadata": {
        "colab": {
          "base_uri": "https://localhost:8080/"
        },
        "id": "tI0fsXQy63Yj",
        "outputId": "e715a707-38c0-4315-c42f-d6a37cece743"
      },
      "execution_count": 8,
      "outputs": [
        {
          "output_type": "stream",
          "name": "stdout",
          "text": [
            "1-odd\n",
            "2-even\n",
            "3-odd\n",
            "4-even\n",
            "5-odd\n",
            "6-even\n",
            "7-odd\n",
            "8-even\n",
            "9-odd\n",
            "10-even\n",
            "11-odd\n",
            "12-even\n",
            "13-odd\n",
            "14-even\n",
            "15-odd\n"
          ]
        }
      ]
    },
    {
      "cell_type": "markdown",
      "source": [
        "9.write a python program to convert temperatures to and from celsius fahrenheit.[Formula:c/5=f-32/9 where c=temperature in celsius and f=temperature in fahrenheit.]sample input:temperature in fahrenheit=41sample output:temperature in celsius=5"
      ],
      "metadata": {
        "id": "Fd6rfXoi7Dd4"
      }
    },
    {
      "cell_type": "code",
      "source": [
        "def fahrenheit_to_celsius(fahrenheit):\n",
        "    celsius = (fahrenheit - 32) * 5 / 9\n",
        "    return celsius\n",
        "\n",
        "def celsius_to_fahrenheit(celsius):\n",
        "    fahrenheit = (celsius * 9 / 5) + 32\n",
        "    return fahrenheit\n",
        "\n",
        "# Example usage:\n",
        "if __name__ == \"__main__\":\n",
        "    fahrenheit = 41\n",
        "    celsius = fahrenheit_to_celsius(fahrenheit)\n",
        "    print(f\"Temperature in Fahrenheit: {fahrenheit}\")\n",
        "    print(f\"Temperature in Celsius: {celsius}\")\n"
      ],
      "metadata": {
        "colab": {
          "base_uri": "https://localhost:8080/"
        },
        "id": "btIZQEGO8H6X",
        "outputId": "f8dc54cb-a17c-47f1-8a11-164ea9e90dbe"
      },
      "execution_count": 9,
      "outputs": [
        {
          "output_type": "stream",
          "name": "stdout",
          "text": [
            "Temperature in Fahrenheit: 41\n",
            "Temperature in Celsius: 5.0\n"
          ]
        }
      ]
    },
    {
      "cell_type": "markdown",
      "source": [
        "10. write a python function to calculate the factorial of a number (a nonnegative integer).the function accepts the number as an arguments.sample input:3 sample output:6"
      ],
      "metadata": {
        "id": "r1BsEzoP8SWZ"
      }
    },
    {
      "cell_type": "code",
      "source": [
        "def factorial(n):\n",
        "    # Base case: factorial of 0 is 1\n",
        "    if n == 0:\n",
        "        return 1\n",
        "    # Recursive case: factorial of n is n times factorial of (n-1)\n",
        "    else:\n",
        "        return n * factorial(n - 1)\n",
        "\n",
        "# Example usage:\n",
        "if __name__ == \"__main__\":\n",
        "    number = 3\n",
        "    result = factorial(number)\n",
        "    print(f\"The factorial of {number} is: {result}\")\n"
      ],
      "metadata": {
        "colab": {
          "base_uri": "https://localhost:8080/"
        },
        "id": "GeLvb8Nm85nI",
        "outputId": "eee6330c-746b-4793-f8e2-7f2d4ed6c43d"
      },
      "execution_count": 10,
      "outputs": [
        {
          "output_type": "stream",
          "name": "stdout",
          "text": [
            "The factorial of 3 is: 6\n"
          ]
        }
      ]
    },
    {
      "cell_type": "code",
      "source": [],
      "metadata": {
        "id": "t1gJ5pdY288Q"
      },
      "execution_count": null,
      "outputs": []
    },
    {
      "cell_type": "code",
      "source": [],
      "metadata": {
        "id": "pZBI4A_20mIm"
      },
      "execution_count": null,
      "outputs": []
    }
  ]
}