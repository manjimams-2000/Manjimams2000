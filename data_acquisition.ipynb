{
  "nbformat": 4,
  "nbformat_minor": 0,
  "metadata": {
    "colab": {
      "provenance": [],
      "authorship_tag": "ABX9TyMSm3PCzXi7Mg65wXRg8MQp",
      "include_colab_link": true
    },
    "kernelspec": {
      "name": "python3",
      "display_name": "Python 3"
    },
    "language_info": {
      "name": "python"
    }
  },
  "cells": [
    {
      "cell_type": "markdown",
      "metadata": {
        "id": "view-in-github",
        "colab_type": "text"
      },
      "source": [
        "<a href=\"https://colab.research.google.com/github/manjimams-2000/Manjimams2000/blob/main/data_acquisition.ipynb\" target=\"_parent\"><img src=\"https://colab.research.google.com/assets/colab-badge.svg\" alt=\"Open In Colab\"/></a>"
      ]
    },
    {
      "cell_type": "code",
      "execution_count": 1,
      "metadata": {
        "id": "4t-buP05q-Wg"
      },
      "outputs": [],
      "source": [
        "import pandas as pd\n",
        "import numpy as np"
      ]
    },
    {
      "cell_type": "code",
      "source": [
        "\n",
        "file_path = '/content/Crime_Data_from_2020_to_Present.csv'\n",
        "df = pd.read_csv(file_path)\n",
        "\n",
        "# Display the first few rows\n",
        "print(df.head())\n",
        "\n",
        "# Print summary statistics\n",
        "print(df.describe())\n"
      ],
      "metadata": {
        "colab": {
          "base_uri": "https://localhost:8080/"
        },
        "id": "Sdmxd9Q02Lxk",
        "outputId": "a39f947a-b033-4d7f-cc6d-f2fe96c8c33f"
      },
      "execution_count": 7,
      "outputs": [
        {
          "output_type": "stream",
          "name": "stdout",
          "text": [
            "       DR_NO               Date Rptd                DATE OCC  TIME OCC  AREA  \\\n",
            "0  190326475  03/01/2020 12:00:00 AM  03/01/2020 12:00:00 AM      2130     7   \n",
            "1  200106753  02/09/2020 12:00:00 AM  02/08/2020 12:00:00 AM      1800     1   \n",
            "2  200320258  11/11/2020 12:00:00 AM  11/04/2020 12:00:00 AM      1700     3   \n",
            "3  200907217  05/10/2023 12:00:00 AM  03/10/2020 12:00:00 AM      2037     9   \n",
            "4  220614831  08/18/2022 12:00:00 AM  08/17/2020 12:00:00 AM      1200     6   \n",
            "\n",
            "   AREA NAME  Rpt Dist No  Part 1-2  Crm Cd  \\\n",
            "0   Wilshire          784         1     510   \n",
            "1    Central          182         1     330   \n",
            "2  Southwest          356         1     480   \n",
            "3   Van Nuys          964         1     343   \n",
            "4  Hollywood          666         2     354   \n",
            "\n",
            "                                Crm Cd Desc  ... Status   Status Desc  \\\n",
            "0                          VEHICLE - STOLEN  ...     AA  Adult Arrest   \n",
            "1                     BURGLARY FROM VEHICLE  ...     IC   Invest Cont   \n",
            "2                             BIKE - STOLEN  ...     IC   Invest Cont   \n",
            "3  SHOPLIFTING-GRAND THEFT ($950.01 & OVER)  ...     IC   Invest Cont   \n",
            "4                         THEFT OF IDENTITY  ...     IC   Invest Cont   \n",
            "\n",
            "  Crm Cd 1 Crm Cd 2  Crm Cd 3 Crm Cd 4  \\\n",
            "0    510.0    998.0       NaN      NaN   \n",
            "1    330.0    998.0       NaN      NaN   \n",
            "2    480.0      NaN       NaN      NaN   \n",
            "3    343.0      NaN       NaN      NaN   \n",
            "4    354.0      NaN       NaN      NaN   \n",
            "\n",
            "                                   LOCATION Cross Street      LAT       LON  \n",
            "0   1900 S  LONGWOOD                     AV          NaN  34.0375 -118.3506  \n",
            "1   1000 S  FLOWER                       ST          NaN  34.0444 -118.2628  \n",
            "2   1400 W  37TH                         ST          NaN  34.0210 -118.3002  \n",
            "3  14000    RIVERSIDE                    DR          NaN  34.1576 -118.4387  \n",
            "4                         1900    TRANSIENT          NaN  34.0944 -118.3277  \n",
            "\n",
            "[5 rows x 28 columns]\n",
            "              DR_NO       TIME OCC           AREA    Rpt Dist No  \\\n",
            "count  3.764680e+05  376468.000000  376468.000000  376468.000000   \n",
            "mean   2.062848e+08    1347.911745      10.807288    1126.956836   \n",
            "std    5.721367e+06     650.663043       6.050186     605.129025   \n",
            "min    8.170000e+02       1.000000       1.000000     101.000000   \n",
            "25%    2.011102e+08     914.750000       6.000000     632.000000   \n",
            "50%    2.021116e+08    1430.000000      11.000000    1148.000000   \n",
            "75%    2.111148e+08    1900.000000      16.000000    1622.000000   \n",
            "max    2.421098e+08    2359.000000      21.000000    2199.000000   \n",
            "\n",
            "            Part 1-2         Crm Cd       Vict Age      Premis Cd  \\\n",
            "count  376468.000000  376468.000000  376468.000000  376465.000000   \n",
            "mean        1.415273     506.717161      30.065421     298.502761   \n",
            "std         0.492770     209.899101      21.700756     214.435522   \n",
            "min         1.000000     110.000000      -4.000000     101.000000   \n",
            "25%         1.000000     330.000000      12.000000     101.000000   \n",
            "50%         1.000000     480.000000      31.000000     203.000000   \n",
            "75%         2.000000     626.000000      45.000000     501.000000   \n",
            "max         2.000000     956.000000     120.000000     974.000000   \n",
            "\n",
            "       Weapon Used Cd       Crm Cd 1      Crm Cd 2     Crm Cd 3    Crm Cd 4  \\\n",
            "count   135247.000000  376463.000000  30061.000000  1020.000000   35.000000   \n",
            "mean       362.302432     506.443799    953.097934   980.675490  988.514286   \n",
            "std        123.144999     209.688606    117.725082    57.675479   34.534187   \n",
            "min        101.000000     110.000000    210.000000   434.000000  821.000000   \n",
            "25%        308.000000     330.000000    998.000000   998.000000  998.000000   \n",
            "50%        400.000000     480.000000    998.000000   998.000000  998.000000   \n",
            "75%        400.000000     626.000000    998.000000   998.000000  998.000000   \n",
            "max        516.000000     956.000000    999.000000   999.000000  999.000000   \n",
            "\n",
            "                 LAT            LON  \n",
            "count  376467.000000  376467.000000  \n",
            "mean       33.888549    -117.713229  \n",
            "std         2.504543       8.691513  \n",
            "min         0.000000    -118.667600  \n",
            "25%        34.010200    -118.430700  \n",
            "50%        34.058200    -118.322500  \n",
            "75%        34.164300    -118.274200  \n",
            "max        34.333000       0.000000  \n"
          ]
        }
      ]
    },
    {
      "cell_type": "code",
      "source": [
        "# Print the size of the dataset\n",
        "print(f\"Number of rows: {df.shape[0]}\")\n",
        "print(f\"Number of columns: {df.shape[1]}\")"
      ],
      "metadata": {
        "colab": {
          "base_uri": "https://localhost:8080/"
        },
        "id": "Egk2Aft53VD2",
        "outputId": "b6e24e5d-9111-4033-c8c4-1c5c16fca8bb"
      },
      "execution_count": 12,
      "outputs": [
        {
          "output_type": "stream",
          "name": "stdout",
          "text": [
            "Number of rows: 376468\n",
            "Number of columns: 28\n"
          ]
        }
      ]
    },
    {
      "cell_type": "code",
      "source": [
        "# Print data types of each column\n",
        "print(df.dtypes)"
      ],
      "metadata": {
        "colab": {
          "base_uri": "https://localhost:8080/"
        },
        "id": "CWnTC9nw3qIJ",
        "outputId": "cb2ccbef-19be-4807-c3e8-a6690bd2318c"
      },
      "execution_count": 13,
      "outputs": [
        {
          "output_type": "stream",
          "name": "stdout",
          "text": [
            "DR_NO               int64\n",
            "Date Rptd          object\n",
            "DATE OCC           object\n",
            "TIME OCC            int64\n",
            "AREA                int64\n",
            "AREA NAME          object\n",
            "Rpt Dist No         int64\n",
            "Part 1-2            int64\n",
            "Crm Cd              int64\n",
            "Crm Cd Desc        object\n",
            "Mocodes            object\n",
            "Vict Age            int64\n",
            "Vict Sex           object\n",
            "Vict Descent       object\n",
            "Premis Cd         float64\n",
            "Premis Desc        object\n",
            "Weapon Used Cd    float64\n",
            "Weapon Desc        object\n",
            "Status             object\n",
            "Status Desc        object\n",
            "Crm Cd 1          float64\n",
            "Crm Cd 2          float64\n",
            "Crm Cd 3          float64\n",
            "Crm Cd 4          float64\n",
            "LOCATION           object\n",
            "Cross Street       object\n",
            "LAT               float64\n",
            "LON               float64\n",
            "dtype: object\n"
          ]
        }
      ]
    },
    {
      "cell_type": "code",
      "source": [
        "\n",
        "# Check for missing values\n",
        "missing_values = df.isnull().sum()"
      ],
      "metadata": {
        "id": "TbECCd1D33t8"
      },
      "execution_count": 14,
      "outputs": []
    },
    {
      "cell_type": "code",
      "source": [
        "\n",
        "# Print columns with missing values and their counts\n",
        "if missing_values.sum() == 0:\n",
        "    print(\"No missing values found in the dataset.\")\n",
        "else:\n",
        "    print(\"Columns with missing values:\")\n",
        "    for col, num_missing in missing_values.items():\n",
        "        if num_missing > 0:\n",
        "            print(f\"{col}: {num_missing} missing values\")"
      ],
      "metadata": {
        "colab": {
          "base_uri": "https://localhost:8080/"
        },
        "id": "zg50PEvQ3_Fi",
        "outputId": "c9201973-36d5-41a5-961a-8ed24f47dbfc"
      },
      "execution_count": 15,
      "outputs": [
        {
          "output_type": "stream",
          "name": "stdout",
          "text": [
            "Columns with missing values:\n",
            "Mocodes: 51768 missing values\n",
            "Vict Sex: 49362 missing values\n",
            "Vict Descent: 49367 missing values\n",
            "Premis Cd: 3 missing values\n",
            "Premis Desc: 147 missing values\n",
            "Weapon Used Cd: 241221 missing values\n",
            "Weapon Desc: 241221 missing values\n",
            "Crm Cd 1: 5 missing values\n",
            "Crm Cd 2: 346407 missing values\n",
            "Crm Cd 3: 375448 missing values\n",
            "Crm Cd 4: 376433 missing values\n",
            "LOCATION: 1 missing values\n",
            "Cross Street: 310867 missing values\n",
            "LAT: 1 missing values\n",
            "LON: 1 missing values\n"
          ]
        }
      ]
    },
    {
      "cell_type": "code",
      "source": [
        "print(\"Column Names:\")\n",
        "print(df.columns)"
      ],
      "metadata": {
        "colab": {
          "base_uri": "https://localhost:8080/"
        },
        "id": "QogXBgzo5Qwj",
        "outputId": "9c4511aa-9591-420a-99c1-d0e143440503"
      },
      "execution_count": 25,
      "outputs": [
        {
          "output_type": "stream",
          "name": "stdout",
          "text": [
            "Column Names:\n",
            "Index(['DR_NO', 'Date Rptd', 'DATE OCC', 'TIME OCC', 'AREA', 'AREA NAME',\n",
            "       'Rpt Dist No', 'Part 1-2', 'Crm Cd', 'Crm Cd Desc', 'Mocodes',\n",
            "       'Vict Age', 'Vict Sex', 'Vict Descent', 'Premis Cd', 'Premis Desc',\n",
            "       'Weapon Used Cd', 'Weapon Desc', 'Status', 'Status Desc', 'Crm Cd 1',\n",
            "       'Crm Cd 2', 'Crm Cd 3', 'Crm Cd 4', 'LOCATION', 'Cross Street', 'LAT',\n",
            "       'LON'],\n",
            "      dtype='object')\n"
          ]
        }
      ]
    },
    {
      "cell_type": "code",
      "source": [
        "numerical_column = 'actual_column_name'"
      ],
      "metadata": {
        "id": "FIEIUBS-5SZs"
      },
      "execution_count": 26,
      "outputs": []
    },
    {
      "cell_type": "code",
      "source": [
        "if numerical_column in df.columns:\n",
        "    mean_value = df[numerical_column].mean()\n",
        "    median_value = df[numerical_column].median()\n",
        "    std_deviation = df[numerical_column].std()"
      ],
      "metadata": {
        "id": "jxgPEN9p5a6_"
      },
      "execution_count": 27,
      "outputs": []
    },
    {
      "cell_type": "code",
      "source": [
        "numerical_column = 'actual_column_name'"
      ],
      "metadata": {
        "id": "B5yZiG-M6_vB"
      },
      "execution_count": 38,
      "outputs": []
    },
    {
      "cell_type": "code",
      "source": [
        "print(\"Column Names and Data Types:\")\n",
        "print(df.dtypes)"
      ],
      "metadata": {
        "colab": {
          "base_uri": "https://localhost:8080/"
        },
        "id": "xyebKz5R8Io_",
        "outputId": "e528c73e-4a72-4e96-890f-d344a9ab7f49"
      },
      "execution_count": 46,
      "outputs": [
        {
          "output_type": "stream",
          "name": "stdout",
          "text": [
            "Column Names and Data Types:\n",
            "DR_NO               int64\n",
            "Date Rptd          object\n",
            "DATE OCC           object\n",
            "TIME OCC            int64\n",
            "AREA                int64\n",
            "AREA NAME          object\n",
            "Rpt Dist No         int64\n",
            "Part 1-2            int64\n",
            "Crm Cd              int64\n",
            "Crm Cd Desc        object\n",
            "Mocodes            object\n",
            "Vict Age            int64\n",
            "Vict Sex           object\n",
            "Vict Descent       object\n",
            "Premis Cd         float64\n",
            "Premis Desc        object\n",
            "Weapon Used Cd    float64\n",
            "Weapon Desc        object\n",
            "Status             object\n",
            "Status Desc        object\n",
            "Crm Cd 1          float64\n",
            "Crm Cd 2          float64\n",
            "Crm Cd 3          float64\n",
            "Crm Cd 4          float64\n",
            "LOCATION           object\n",
            "Cross Street       object\n",
            "LAT               float64\n",
            "LON               float64\n",
            "dtype: object\n"
          ]
        }
      ]
    },
    {
      "cell_type": "code",
      "source": [
        "numerical_columns = ['numerical_column1', 'numerical_column2', 'numerical_column3']"
      ],
      "metadata": {
        "id": "RpibAHMQ8K03"
      },
      "execution_count": 47,
      "outputs": []
    },
    {
      "cell_type": "code",
      "source": [
        "import seaborn as sns\n",
        "import matplotlib.pyplot as plt"
      ],
      "metadata": {
        "id": "uyhoSy7r8aQy"
      },
      "execution_count": 50,
      "outputs": []
    },
    {
      "cell_type": "code",
      "source": [
        "\n",
        "\n",
        "\n",
        "print(\"Column Names and Data Types:\")\n",
        "print(df.dtypes)\n",
        "\n",
        "\n"
      ],
      "metadata": {
        "colab": {
          "base_uri": "https://localhost:8080/"
        },
        "id": "XGjLa-sB9bZL",
        "outputId": "1e012911-f655-423f-e5a0-9610c06df110"
      },
      "execution_count": 55,
      "outputs": [
        {
          "output_type": "stream",
          "name": "stdout",
          "text": [
            "Column Names and Data Types:\n",
            "DR_NO               int64\n",
            "Date Rptd          object\n",
            "DATE OCC           object\n",
            "TIME OCC            int64\n",
            "AREA                int64\n",
            "AREA NAME          object\n",
            "Rpt Dist No         int64\n",
            "Part 1-2            int64\n",
            "Crm Cd              int64\n",
            "Crm Cd Desc        object\n",
            "Mocodes            object\n",
            "Vict Age            int64\n",
            "Vict Sex           object\n",
            "Vict Descent       object\n",
            "Premis Cd         float64\n",
            "Premis Desc        object\n",
            "Weapon Used Cd    float64\n",
            "Weapon Desc        object\n",
            "Status             object\n",
            "Status Desc        object\n",
            "Crm Cd 1          float64\n",
            "Crm Cd 2          float64\n",
            "Crm Cd 3          float64\n",
            "Crm Cd 4          float64\n",
            "LOCATION           object\n",
            "Cross Street       object\n",
            "LAT               float64\n",
            "LON               float64\n",
            "dtype: object\n"
          ]
        }
      ]
    },
    {
      "cell_type": "code",
      "source": [
        "categorical_column = 'categorical_column'\n",
        "numerical_column = 'numerical_column'"
      ],
      "metadata": {
        "id": "3Hwzk6C_9_TG"
      },
      "execution_count": 56,
      "outputs": []
    }
  ]
}